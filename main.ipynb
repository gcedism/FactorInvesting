{
 "cells": [
  {
   "cell_type": "code",
   "execution_count": 1,
   "id": "64eafff7-2fd7-44be-8fab-41fb890bf533",
   "metadata": {},
   "outputs": [],
   "source": [
    "import pandas as pd\n",
    "import numpy as np\n",
    "import statsmodels.api as sm\n",
    "import matplotlib.pyplot as plt\n",
    "from datetime import datetime as dt\n",
    "\n",
    "from get_data import Database as db"
   ]
  },
  {
   "cell_type": "code",
   "execution_count": 2,
   "id": "2f313f2f-6dfa-473d-8aa2-c73d86406e5a",
   "metadata": {},
   "outputs": [],
   "source": [
    "_y = []\n",
    "_y_hat = []\n",
    "_index = []\n",
    "# max = data.shape[0] - reg_period - vol_period\n",
    "max = 100"
   ]
  },
  {
   "cell_type": "code",
   "execution_count": 3,
   "id": "f2426ebb-aed4-4c46-b3f2-f135a5515d5f",
   "metadata": {},
   "outputs": [],
   "source": [
    "db = db(60, 12)"
   ]
  },
  {
   "cell_type": "code",
   "execution_count": 5,
   "id": "fddbe730-d4ee-45f7-b153-0bda0df7ee55",
   "metadata": {},
   "outputs": [
    {
     "data": {
      "text/plain": [
       "0.009359396210925576"
      ]
     },
     "execution_count": 5,
     "metadata": {},
     "output_type": "execute_result"
    }
   ],
   "source": [
    "pd.Series([db.vol['low'][i][1] for i in range(db.hist.shape[0])]).mean()"
   ]
  },
  {
   "cell_type": "code",
   "execution_count": 6,
   "id": "84669df0-a6dd-47ff-b72c-d527078fec2e",
   "metadata": {},
   "outputs": [
    {
     "data": {
      "text/plain": [
       "0.011701874909992981"
      ]
     },
     "execution_count": 6,
     "metadata": {},
     "output_type": "execute_result"
    }
   ],
   "source": [
    "pd.Series([db.vol['mid'][i][1] for i in range(db.hist.shape[0])]).mean()"
   ]
  },
  {
   "cell_type": "code",
   "execution_count": 7,
   "id": "c544c779-0302-402a-9f19-baddc3551fe7",
   "metadata": {},
   "outputs": [
    {
     "data": {
      "text/plain": [
       "0.008774564911335967"
      ]
     },
     "execution_count": 7,
     "metadata": {},
     "output_type": "execute_result"
    }
   ],
   "source": [
    "pd.Series([db.vol['high'][i][1] for i in range(db.hist.shape[0])]).mean()"
   ]
  },
  {
   "cell_type": "code",
   "execution_count": 8,
   "id": "724af432-8ab6-4b59-9aa6-70fd45c1edb8",
   "metadata": {},
   "outputs": [],
   "source": [
    "r = (pd.Series([db.vol['low'][i][1] for i in range(db.hist.shape[0])])\n",
    "- pd.Series([db.vol['high'][i][1] for i in range(db.hist.shape[0])])).mean()"
   ]
  },
  {
   "cell_type": "code",
   "execution_count": 9,
   "id": "e98065d5-7dae-4fae-bc21-b1aea5b80126",
   "metadata": {},
   "outputs": [],
   "source": [
    "s = (pd.Series([db.vol['low'][i][1] for i in range(db.hist.shape[0])])\n",
    "- pd.Series([db.vol['high'][i][1] for i in range(db.hist.shape[0])])).std()"
   ]
  },
  {
   "cell_type": "code",
   "execution_count": 10,
   "id": "0498576c-fe9a-4fe4-adcb-95d2ef4c390f",
   "metadata": {},
   "outputs": [
    {
     "data": {
      "text/plain": [
       "0.01039221885964785"
      ]
     },
     "execution_count": 10,
     "metadata": {},
     "output_type": "execute_result"
    }
   ],
   "source": [
    "r/s"
   ]
  },
  {
   "cell_type": "code",
   "execution_count": null,
   "id": "8c12b162-6d78-4b57-97fd-086c863bd60e",
   "metadata": {},
   "outputs": [],
   "source": []
  },
  {
   "cell_type": "code",
   "execution_count": null,
   "id": "13d6770e-5d30-4558-87af-f168ae6b5e22",
   "metadata": {},
   "outputs": [],
   "source": []
  },
  {
   "cell_type": "code",
   "execution_count": null,
   "id": "d4b990b5-3f2f-4423-a3c7-ffea193a9699",
   "metadata": {},
   "outputs": [],
   "source": []
  },
  {
   "cell_type": "code",
   "execution_count": 4,
   "id": "3209a86d-a90c-4deb-ab46-2eeda1408f9b",
   "metadata": {},
   "outputs": [
    {
     "data": {
      "text/plain": [
       "0.018304112614842622"
      ]
     },
     "execution_count": 4,
     "metadata": {},
     "output_type": "execute_result"
    }
   ],
   "source": [
    "pd.Series([db.value['low'][i][1] for i in range(db.hist.shape[0])]).mean()"
   ]
  },
  {
   "cell_type": "code",
   "execution_count": 20,
   "id": "dddb6c98-2717-48ce-af3d-6f28c312e22b",
   "metadata": {},
   "outputs": [
    {
     "data": {
      "text/plain": [
       "0.018304112614842622"
      ]
     },
     "execution_count": 20,
     "metadata": {},
     "output_type": "execute_result"
    }
   ],
   "source": [
    "pd.Series([db.value['low'][i][1] for i in range(db.hist.shape[0])]).mean()"
   ]
  },
  {
   "cell_type": "code",
   "execution_count": 21,
   "id": "aa1d76fb-8fac-4383-8c1c-0b18c95f9d8c",
   "metadata": {},
   "outputs": [
    {
     "data": {
      "text/plain": [
       "0.0020534745282525845"
      ]
     },
     "execution_count": 21,
     "metadata": {},
     "output_type": "execute_result"
    }
   ],
   "source": [
    "pd.Series([db.value['high'][i][1] for i in range(db.hist.shape[0])]).mean()"
   ]
  },
  {
   "cell_type": "code",
   "execution_count": 22,
   "id": "9d8d3173-c78c-418c-8ec6-cbeb65440736",
   "metadata": {},
   "outputs": [
    {
     "data": {
      "text/plain": [
       "0.007982900297749323"
      ]
     },
     "execution_count": 22,
     "metadata": {},
     "output_type": "execute_result"
    }
   ],
   "source": [
    "pd.Series([db.value['mid'][i][1] for i in range(db.hist.shape[0])]).mean()"
   ]
  },
  {
   "cell_type": "code",
   "execution_count": 26,
   "id": "3a349043-ef41-4628-9a0e-f06056d810da",
   "metadata": {},
   "outputs": [],
   "source": [
    "r = (pd.Series([db.value['low'][i][1] for i in range(db.hist.shape[0])])\n",
    "- pd.Series([db.value['high'][i][1] for i in range(db.hist.shape[0])])).mean()\n"
   ]
  },
  {
   "cell_type": "code",
   "execution_count": 27,
   "id": "9ee3cf98-6e2a-4c41-b370-9492cbe08461",
   "metadata": {},
   "outputs": [],
   "source": [
    "s = (pd.Series([db.value['low'][i][1] for i in range(db.hist.shape[0])])\n",
    "- pd.Series([db.value['high'][i][1] for i in range(db.hist.shape[0])])).std()\n"
   ]
  },
  {
   "cell_type": "code",
   "execution_count": 28,
   "id": "67aedd6e-122a-4aa3-b279-882823ea869b",
   "metadata": {},
   "outputs": [
    {
     "data": {
      "text/plain": [
       "0.34733244214644554"
      ]
     },
     "execution_count": 28,
     "metadata": {},
     "output_type": "execute_result"
    }
   ],
   "source": [
    "r / s"
   ]
  },
  {
   "cell_type": "code",
   "execution_count": null,
   "id": "fc0ea4dc-9552-4662-88b1-73edeb7cbcf9",
   "metadata": {},
   "outputs": [],
   "source": []
  },
  {
   "cell_type": "code",
   "execution_count": null,
   "id": "8aa30de4-760e-4ac2-b6e3-631145454e04",
   "metadata": {},
   "outputs": [],
   "source": []
  },
  {
   "cell_type": "code",
   "execution_count": 5,
   "id": "fd64cc6d-29c2-4a96-bd9f-f3f02bdd5fff",
   "metadata": {},
   "outputs": [
    {
     "data": {
      "text/plain": [
       "-0.012088331580706844"
      ]
     },
     "execution_count": 5,
     "metadata": {},
     "output_type": "execute_result"
    }
   ],
   "source": [
    "pd.Series([db.momentum['low'][i][1] for i in range(db.hist.shape[0])]).mean()"
   ]
  },
  {
   "cell_type": "code",
   "execution_count": 4,
   "id": "b9b53347-acaa-48f6-a0cd-22ba38bc317f",
   "metadata": {},
   "outputs": [
    {
     "data": {
      "text/plain": [
       "-0.012088331580706844"
      ]
     },
     "execution_count": 4,
     "metadata": {},
     "output_type": "execute_result"
    }
   ],
   "source": [
    "pd.Series([db.momentum['low'][i][1] for i in range(db.hist.shape[0])]).mean()"
   ]
  },
  {
   "cell_type": "code",
   "execution_count": 5,
   "id": "7bc873c0-59a0-4a47-9d66-e78e1410e18e",
   "metadata": {},
   "outputs": [
    {
     "data": {
      "text/plain": [
       "0.009761718268191706"
      ]
     },
     "execution_count": 5,
     "metadata": {},
     "output_type": "execute_result"
    }
   ],
   "source": [
    "pd.Series([db.momentum['mid'][i][1] for i in range(db.hist.shape[0])]).mean()"
   ]
  },
  {
   "cell_type": "code",
   "execution_count": 6,
   "id": "42a2d39d-a69c-4429-b3f6-b8f63567f205",
   "metadata": {},
   "outputs": [
    {
     "data": {
      "text/plain": [
       "0.031187661218004682"
      ]
     },
     "execution_count": 6,
     "metadata": {},
     "output_type": "execute_result"
    }
   ],
   "source": [
    "pd.Series([db.momentum['high'][i][1] for i in range(db.hist.shape[0])]).mean()"
   ]
  },
  {
   "cell_type": "code",
   "execution_count": 18,
   "id": "7ac1e750-87ba-4762-a761-3ed6251c13c3",
   "metadata": {},
   "outputs": [],
   "source": [
    "r = (pd.Series([db.momentum['high'][i][1] for i in range(db.hist.shape[0])])\n",
    "- pd.Series([db.momentum['low'][i][1] for i in range(db.hist.shape[0])])).mean()"
   ]
  },
  {
   "cell_type": "code",
   "execution_count": 19,
   "id": "2d70ac81-5a31-4c4a-a3d3-5b106de07cd0",
   "metadata": {},
   "outputs": [],
   "source": [
    "s = (pd.Series([db.momentum['high'][i][1] for i in range(db.hist.shape[0])])\n",
    "- pd.Series([db.momentum['low'][i][1] for i in range(db.hist.shape[0])])).std()"
   ]
  },
  {
   "cell_type": "code",
   "execution_count": 20,
   "id": "50a5e49d-45a8-4d29-954f-c11021ee66f9",
   "metadata": {},
   "outputs": [
    {
     "data": {
      "text/plain": [
       "0.7591646725344757"
      ]
     },
     "execution_count": 20,
     "metadata": {},
     "output_type": "execute_result"
    }
   ],
   "source": [
    "r / s"
   ]
  },
  {
   "cell_type": "code",
   "execution_count": null,
   "id": "375b7c2d-c8a6-4b02-9253-1d67f9ee95b4",
   "metadata": {},
   "outputs": [],
   "source": []
  },
  {
   "cell_type": "code",
   "execution_count": null,
   "id": "ac65c40c-837b-4453-b4ab-a243b2d93b9e",
   "metadata": {},
   "outputs": [],
   "source": []
  },
  {
   "cell_type": "code",
   "execution_count": null,
   "id": "e5822cad-f7d2-4d09-a1f3-cbc3b8b391c6",
   "metadata": {},
   "outputs": [],
   "source": [
    "class FactorModel:\n",
    "\n",
    "  def __init__(self, vol_period: int, mom_period: int, reg_period: int):\n",
    "    '''\n",
    "      vol_period : Volatility Period\n",
    "      mom_period : Momentum Period\n",
    "      reg_period : Regression window\n",
    "    '''\n",
    "    db = db(vol_period, mom_period)\n",
    "    self.vol_period = vol_period\n",
    "    self.reg_period = reg_period\n",
    "\n",
    "  \n",
    "\n",
    "  def gen_trades(cash: float, portfolio: pd.DataFrame, new_stocks, pricing_dt):\n",
    "    ''' \n",
    "      cash : remainder cash position\n",
    "      portfolio : \n",
    "        index : Ticker\n",
    "        quantity : outstanding position\n",
    "      new_stocks : list of new positions\n",
    "      pricing_dt : date of the trade\n",
    "    '''\n",
    "    portfolio['c1_price'] = portfolio.index.map(db.hist.loc[pricing_dt,\n",
    "                                                            portfolio.index])\n",
    "    try:\n",
    "      nav = (portfolio['quantity'] * portfolio['c1_price']).sum() + cash\n",
    "    except:\n",
    "      nav = cash\n",
    "\n",
    "    final = pd.DataFrame(db.hist.loc[pricing_dt, new_stocks])\n",
    "    final.columns = ['c2_price']\n",
    "    final['quantity_f'] = [nav / len(new_stocks)] * final.shape[0]\n",
    "    final['quantity_f'] /= final['c2_price']\n",
    "    final['quantity_f'] = final['quantity_f'].map(lambda x: int(x))\n",
    "\n",
    "    blotter = portfolio.join(final, how='outer').fillna(0)\n",
    "    try:\n",
    "      blotter['quantity'] = (blotter['quantity_f'] - blotter['quantity'])\n",
    "    except:\n",
    "      blotter['quantity'] = blotter['quantity_f']\n",
    "\n",
    "    blotter['cost_price'] = blotter[['c1_price', 'c2_price']].max(axis=1)\n",
    "    blotter = blotter[['quantity', 'cost_price']]\n",
    "    blotter['date'] = [pricing_dt] * blotter.shape[0]\n",
    "    blotter = blotter[blotter['quantity'] != 0]\n",
    "    blotter.index.name = 'tickers'\n",
    "\n",
    "    new_cash = cash - (blotter['quantity'] * blotter['cost_price']).sum()\n",
    "    return (new_cash, blotter)"
   ]
  }
 ],
 "metadata": {
  "kernelspec": {
   "display_name": "Python 3.10.6 64-bit",
   "language": "python",
   "name": "python3"
  },
  "language_info": {
   "codemirror_mode": {
    "name": "ipython",
    "version": 3
   },
   "file_extension": ".py",
   "mimetype": "text/x-python",
   "name": "python",
   "nbconvert_exporter": "python",
   "pygments_lexer": "ipython3",
   "version": "3.10.6"
  },
  "vscode": {
   "interpreter": {
    "hash": "aee8b7b246df8f9039afb4144a1f6fd8d2ca17a180786b69acc140d282b71a49"
   }
  }
 },
 "nbformat": 4,
 "nbformat_minor": 5
}
